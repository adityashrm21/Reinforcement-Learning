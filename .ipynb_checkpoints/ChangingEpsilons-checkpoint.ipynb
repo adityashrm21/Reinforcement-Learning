{
 "cells": [
  {
   "cell_type": "code",
   "execution_count": 2,
   "metadata": {
    "collapsed": true
   },
   "outputs": [],
   "source": [
    "import numpy as np\n",
    "import matplotlib.pyplot as plt"
   ]
  },
  {
   "cell_type": "code",
   "execution_count": 5,
   "metadata": {},
   "outputs": [],
   "source": [
    "class Bandit:\n",
    "    def __init__(self, m):\n",
    "        self.m = m\n",
    "        self.N = N\n",
    "        self.mean = mean\n",
    "    \n",
    "    def pull(self, x):\n",
    "        return np.random.randn() + self.m\n",
    "    \n",
    "    def update(self, x):\n",
    "        self.N += 1\n",
    "        self.mean = (1 - (1.0/self.N))*self.mean + (1.0/self.N)*x"
   ]
  },
  {
   "cell_type": "code",
   "execution_count": 6,
   "metadata": {
    "collapsed": true
   },
   "outputs": [],
   "source": [
    "def experiment(self, m1, m2, m3, eps, N):\n",
    "    bandits = [Bandit(m1), Bandit(m2), Bandit(m3)]\n",
    "    \n",
    "    data = np.empty(N)\n",
    "    \n",
    "    for i in range(N):\n",
    "        p = np.random.random()\n",
    "        if p < eps:\n",
    "            j = np.random.choice(3)\n",
    "        else:\n",
    "            j = np.argmax(b.mean for b in bandits)\n",
    "        x = bandits[j].pull()\n",
    "        bandits[j].update()\n",
    "    \n",
    "        data[i] = x\n",
    "    cumulative_avg = np.cumsum(data)/(np.arange(N) + 1)  \n",
    "    \n",
    "    # plot moving average ctr\n",
    "    plt.plot(cumulative_avg)\n",
    "    plt.plot(np.ones(N)*m1)\n",
    "    plt.plot(np.ones(N)*m2)\n",
    "    plt.plot(np.ones(N)*m3)\n",
    "    plt.xscale('log')\n",
    "    plt.show()\n",
    "    \n",
    "    for b in bandits:\n",
    "    print(b.mean)\n",
    "\n",
    "    return cumulative_average\n"
   ]
  },
  {
   "cell_type": "code",
   "execution_count": 10,
   "metadata": {},
   "outputs": [
    {
     "data": {
      "text/plain": [
       "array([ 35.        ,  17.5       ,  11.66666667,   8.75      ,   7.        ])"
      ]
     },
     "execution_count": 10,
     "metadata": {},
     "output_type": "execute_result"
    }
   ],
   "source": [
    "35/(np.arange(5)+1)"
   ]
  },
  {
   "cell_type": "code",
   "execution_count": null,
   "metadata": {
    "collapsed": true
   },
   "outputs": [],
   "source": []
  }
 ],
 "metadata": {
  "kernelspec": {
   "display_name": "Python 3",
   "language": "python",
   "name": "python3"
  },
  "language_info": {
   "codemirror_mode": {
    "name": "ipython",
    "version": 3
   },
   "file_extension": ".py",
   "mimetype": "text/x-python",
   "name": "python",
   "nbconvert_exporter": "python",
   "pygments_lexer": "ipython3",
   "version": "3.6.1"
  }
 },
 "nbformat": 4,
 "nbformat_minor": 2
}

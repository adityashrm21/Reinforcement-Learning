{
 "cells": [
  {
   "cell_type": "code",
   "execution_count": 1,
   "metadata": {
    "collapsed": true
   },
   "outputs": [],
   "source": [
    "import numpy as np\n",
    "import matplotlib.pyplot as plt\n",
    "from ipynb.fs.full.ChangingEpsilons import run_experiment"
   ]
  },
  {
   "cell_type": "code",
   "execution_count": 6,
   "metadata": {
    "collapsed": true
   },
   "outputs": [],
   "source": [
    "class Bandit:\n",
    "    def __init__(self, m):\n",
    "        self.m = m\n",
    "        self.N = 0\n",
    "        self.mean = 0\n",
    "    \n",
    "    def pull(self):\n",
    "        return np.random.randn() + self.m\n",
    "    \n",
    "    def update(self, x):\n",
    "        self.N += 1\n",
    "        self.mean = (1 - (1.0/self.N))*self.mean + (1.0/self.N)*x"
   ]
  },
  {
   "cell_type": "code",
   "execution_count": 7,
   "metadata": {
    "collapsed": true
   },
   "outputs": [],
   "source": [
    "def ucb(mean, n, nj):\n",
    "    if nj == 0:\n",
    "        return float('inf')\n",
    "    else:\n",
    "        return mean + np.sqrt(2 * np.log(n) / nj)    "
   ]
  },
  {
   "cell_type": "code",
   "execution_count": 8,
   "metadata": {
    "collapsed": true
   },
   "outputs": [],
   "source": [
    "def run_experiment_ucb(m1, m2, m3, N):\n",
    "    bandits = [Bandit(m1), Bandit(m2), Bandit(m3)]\n",
    "    \n",
    "    data = np.empty(N)\n",
    "    \n",
    "    for i in range(N):\n",
    "        j = np.argmax([ucb(b.mean, i+1, b.N) for b in bandits])\n",
    "        x = bandits[j].pull()\n",
    "        bandits[j].update(x)\n",
    "    \n",
    "        data[i] = x\n",
    "    cumulative_avg = np.cumsum(data)/(np.arange(N) + 1)  \n",
    "    \n",
    "    # plot moving average ctr\n",
    "    plt.plot(cumulative_avg)\n",
    "    plt.plot(np.ones(N)*m1)\n",
    "    plt.plot(np.ones(N)*m2)\n",
    "    plt.plot(np.ones(N)*m3)\n",
    "    plt.xscale('log')\n",
    "    plt.show()\n",
    "    \n",
    "    for b in bandits:\n",
    "        print(b.mean)\n",
    "\n",
    "    return cumulative_avg\n"
   ]
  },
  {
   "cell_type": "code",
   "execution_count": null,
   "metadata": {},
   "outputs": [
    {
     "data": {
      "image/png": "[encoded data removed]",
      "text/plain": [
       "<matplotlib.figure.Figure at 0x140b4a7e278>"
      ]
     },
     "metadata": {},
     "output_type": "display_data"
    },
    {
     "name": "stdout",
     "output_type": "stream",
     "text": [
      "1.0284900479221886\n",
      "2.005779697633472\n",
      "3.0031756370137948\n"
     ]
    }
   ],
   "source": [
    "if __name__ == '__main__':\n",
    "    eps = run_experiment(1.0, 2.0, 3.0, 0.1, 100000)\n",
    "    ucb = run_experiment_ucb(1.0, 2.0, 3.0, 100000)\n",
    "\n",
    "    \n",
    "    # log scale plot\n",
    "    plt.plot(eps, label='eps = 0.1')\n",
    "    plt.plot(ucb, label='UCB')\n",
    "    plt.legend()\n",
    "    plt.xscale('log')\n",
    "    plt.show()\n",
    "\n",
    "\n",
    "    # linear plot\n",
    "    plt.plot(eps, label='eps = 0.1')\n",
    "    plt.plot(ucb, label='UCB')\n",
    "    plt.legend()\n",
    "    plt.show()"
   ]
  },
  {
   "cell_type": "code",
   "execution_count": null,
   "metadata": {
    "collapsed": true
   },
   "outputs": [],
   "source": []
  }
 ],
 "metadata": {
  "kernelspec": {
   "display_name": "Python 3",
   "language": "python",
   "name": "python3"
  },
  "language_info": {
   "codemirror_mode": {
    "name": "ipython",
    "version": 3
   },
   "file_extension": ".py",
   "mimetype": "text/x-python",
   "name": "python",
   "nbconvert_exporter": "python",
   "pygments_lexer": "ipython3",
   "version": "3.6.1"
  }
 },
 "nbformat": 4,
 "nbformat_minor": 2
}
